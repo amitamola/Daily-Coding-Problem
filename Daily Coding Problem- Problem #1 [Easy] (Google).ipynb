{
 "cells": [
  {
   "cell_type": "markdown",
   "metadata": {},
   "source": [
    "## This problem was recently asked by Google.\n",
    "### Given a list of numbers and a number k, return whether any two numbers from the list add up to k. For example, given [10, 15, 3, 7] and k of 17, return true since 10 + 7 is 17.\n",
    "### Bonus: Can you do this in one pass?"
   ]
  },
  {
   "cell_type": "code",
   "execution_count": 1,
   "metadata": {
    "ExecuteTime": {
     "end_time": "2019-05-10T05:31:48.728616Z",
     "start_time": "2019-05-10T05:31:39.910290Z"
    }
   },
   "outputs": [],
   "source": [
    "import numpy as np\n",
    "import pandas as pd"
   ]
  },
  {
   "cell_type": "code",
   "execution_count": 22,
   "metadata": {
    "ExecuteTime": {
     "end_time": "2019-05-10T05:43:01.125465Z",
     "start_time": "2019-05-10T05:43:01.118485Z"
    }
   },
   "outputs": [],
   "source": [
    "def torf(li,num):\n",
    "    m=li.copy()\n",
    "    for a in range(len(m)):\n",
    "        ti=m.pop(a)\n",
    "\n",
    "        f=np.array(m)\n",
    "        f=f+ti\n",
    "   \n",
    "        if num in f:\n",
    "            return True\n",
    "        m=li.copy()\n",
    "        \n",
    "    return False\n",
    "        "
   ]
  },
  {
   "cell_type": "code",
   "execution_count": 35,
   "metadata": {
    "ExecuteTime": {
     "end_time": "2019-05-10T05:46:20.519657Z",
     "start_time": "2019-05-10T05:46:20.515649Z"
    }
   },
   "outputs": [
    {
     "data": {
      "text/plain": [
       "True"
      ]
     },
     "execution_count": 35,
     "metadata": {},
     "output_type": "execute_result"
    }
   ],
   "source": [
    "listy=[10, 15, 3, 4]\n",
    "torf(listy,7)"
   ]
  },
  {
   "cell_type": "code",
   "execution_count": 15,
   "metadata": {
    "ExecuteTime": {
     "end_time": "2019-05-10T05:40:53.980049Z",
     "start_time": "2019-05-10T05:40:53.977040Z"
    }
   },
   "outputs": [],
   "source": [
    "k=np.array([2,5,2,5,2])"
   ]
  },
  {
   "cell_type": "markdown",
   "metadata": {},
   "source": [
    "### vineetjohn's method\n",
    "\n",
    "https://github.com/vineetjohn/daily-coding-problem/blob/master/solutions/problem_001.py"
   ]
  },
  {
   "cell_type": "markdown",
   "metadata": {},
   "source": [
    "### This is a very well thought methodology\n",
    "\n",
    "### What is it trying to do is:\n",
    "\n",
    "### We know that if a number has to be sum of two numbers inside a list and we subtract every number in the list from this number, the resultant values we will get, have to be either be the other number which makes up this digit, or there won't be any.\n",
    "\n",
    "### For example:\n",
    "### If we have list [4, 53, 21, 125, 652, 52] and we say, find if 777 can be made with any of two digits within this list. We what we do is subtract each of these in list with 777 and check if any subtracted value is in the next value in the loop... let's see how it works:\n",
    "\n",
    "```\n",
    "a_set=set()\n",
    "for num in [4, 53, 21, 125, 652, 52]:\n",
    "    if num in set:\n",
    "        return True\n",
    "    a_set.add(777-num)\n",
    "    \n",
    "    return False\n",
    "    \n",
    "Iteration 1: a_set={}, num=4, if==False, a_set={777-4}\n",
    "\n",
    "Iteration 2: a_set={773}, num=53, if==False, a_set={777-53}\n",
    "\n",
    "Iteration 3: a_set={773, 724}, num=21, if==False, a_set={777-21}\n",
    "\n",
    "Iteration 4: a_set={773, 724, 724}, num=125, if==False, a_set={777-125}\n",
    "\n",
    "Iteration 5: a_set={773, 724, 724, 652}, num=652, if==True, return True\n",
    "\n",
    "\"END OF CODE\"\n",
    "```"
   ]
  },
  {
   "cell_type": "code",
   "execution_count": 39,
   "metadata": {
    "ExecuteTime": {
     "end_time": "2019-05-10T05:47:20.967687Z",
     "start_time": "2019-05-10T05:47:20.963677Z"
    }
   },
   "outputs": [],
   "source": [
    "def check_sums(array, k):\n",
    "    potential_solutions = set()\n",
    "    for num in array:\n",
    "        print(potential_solutions)\n",
    "        if num in potential_solutions:\n",
    "            return True\n",
    "        potential_solutions.add(k - num)\n",
    "\n",
    "    \n",
    "    return False"
   ]
  },
  {
   "cell_type": "code",
   "execution_count": 40,
   "metadata": {
    "ExecuteTime": {
     "end_time": "2019-05-10T05:47:21.372216Z",
     "start_time": "2019-05-10T05:47:21.367240Z"
    }
   },
   "outputs": [
    {
     "data": {
      "text/plain": [
       "False"
      ]
     },
     "execution_count": 40,
     "metadata": {},
     "output_type": "execute_result"
    }
   ],
   "source": [
    "check_sums([], 17)"
   ]
  },
  {
   "cell_type": "code",
   "execution_count": 41,
   "metadata": {
    "ExecuteTime": {
     "end_time": "2019-05-10T05:47:21.698472Z",
     "start_time": "2019-05-10T05:47:21.692497Z"
    }
   },
   "outputs": [
    {
     "name": "stdout",
     "output_type": "stream",
     "text": [
      "set()\n",
      "{7}\n",
      "{2, 7}\n",
      "{2, 14, 7}\n"
     ]
    },
    {
     "data": {
      "text/plain": [
       "True"
      ]
     },
     "execution_count": 41,
     "metadata": {},
     "output_type": "execute_result"
    }
   ],
   "source": [
    "check_sums([10, 15, 3, 7], 17)"
   ]
  },
  {
   "cell_type": "code",
   "execution_count": 49,
   "metadata": {
    "ExecuteTime": {
     "end_time": "2019-05-10T05:52:58.869366Z",
     "start_time": "2019-05-10T05:52:58.863350Z"
    }
   },
   "outputs": [
    {
     "name": "stdout",
     "output_type": "stream",
     "text": [
      "set()\n",
      "{-3}\n",
      "{2, -3}\n",
      "{2, 13, -3}\n"
     ]
    },
    {
     "data": {
      "text/plain": [
       "True"
      ]
     },
     "execution_count": 49,
     "metadata": {},
     "output_type": "execute_result"
    }
   ],
   "source": [
    "check_sums([20, 15, 4, 13],17)"
   ]
  },
  {
   "cell_type": "code",
   "execution_count": null,
   "metadata": {},
   "outputs": [],
   "source": []
  }
 ],
 "metadata": {
  "kernelspec": {
   "display_name": "Python 3",
   "language": "python",
   "name": "python3"
  },
  "language_info": {
   "codemirror_mode": {
    "name": "ipython",
    "version": 3
   },
   "file_extension": ".py",
   "mimetype": "text/x-python",
   "name": "python",
   "nbconvert_exporter": "python",
   "pygments_lexer": "ipython3",
   "version": "3.7.1"
  }
 },
 "nbformat": 4,
 "nbformat_minor": 2
}
